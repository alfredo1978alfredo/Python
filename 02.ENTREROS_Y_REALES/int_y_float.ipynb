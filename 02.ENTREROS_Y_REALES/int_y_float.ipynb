print ("*************************************************")
print ("Este programa convierte los centimetros en metros")
print ("*************************************************")

centimetros = float (input ("Escriba los centimetros que desea covertir a metros: "))

metros = centimetros / 100

print (centimetros, " centimetros son igual a", metros, "metros")
