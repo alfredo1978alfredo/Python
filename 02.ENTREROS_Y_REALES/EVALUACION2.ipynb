# ejercicio 2. Escribir un programa que convierta un valor dado en grados Fahrenheit a grados Celsius.

f = float (input ("Escriba los gados farenheit que quiere convertir a grados: "))

centigrados = (f-32) * (5/9) 

print (f, "grados farenheit equivalen a", round(centigrados,2), "grados centigrados")
