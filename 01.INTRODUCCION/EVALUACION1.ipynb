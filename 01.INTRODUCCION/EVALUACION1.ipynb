# Escribir un programa que pregunte al usuario su nombre, y luego lo salude.

nombre  = input ("Escriba su nombre: ")

print ( "Buenos dias", nombre)
